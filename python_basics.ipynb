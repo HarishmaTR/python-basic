{
  "nbformat": 4,
  "nbformat_minor": 0,
  "metadata": {
    "colab": {
      "provenance": [],
      "include_colab_link": true
    },
    "kernelspec": {
      "name": "python3",
      "display_name": "Python 3"
    },
    "language_info": {
      "name": "python"
    }
  },
  "cells": [
    {
      "cell_type": "markdown",
      "metadata": {
        "id": "view-in-github",
        "colab_type": "text"
      },
      "source": [
        "<a href=\"https://colab.research.google.com/github/HarishmaTR/python-basic/blob/main/python_basics.ipynb\" target=\"_parent\"><img src=\"https://colab.research.google.com/assets/colab-badge.svg\" alt=\"Open In Colab\"/></a>"
      ]
    },
    {
      "cell_type": "code",
      "execution_count": null,
      "metadata": {
        "id": "9Y9_98YCoOfs"
      },
      "outputs": [],
      "source": [
        "print(\"hello\")"
      ]
    },
    {
      "cell_type": "code",
      "source": [],
      "metadata": {
        "id": "gmuOolsjuQOG"
      },
      "execution_count": null,
      "outputs": []
    },
    {
      "cell_type": "code",
      "source": [
        "print(\"hello\")\n"
      ],
      "metadata": {
        "id": "m6ctQ5l-CpmG"
      },
      "execution_count": null,
      "outputs": []
    },
    {
      "cell_type": "code",
      "source": [
        "a = 2\n",
        "print(a)\n",
        "print(type(a))"
      ],
      "metadata": {
        "id": "z4HJtD8eoi3i"
      },
      "execution_count": null,
      "outputs": []
    },
    {
      "cell_type": "code",
      "source": [
        "a = 2.9\n",
        "print(a)\n",
        "print(type(a))"
      ],
      "metadata": {
        "id": "PZinbo6zoxyK"
      },
      "execution_count": null,
      "outputs": []
    },
    {
      "cell_type": "code",
      "source": [
        "a = 2j+6\n",
        "print(a)\n",
        "print(type(a))"
      ],
      "metadata": {
        "id": "QnhiId-so1gH"
      },
      "execution_count": null,
      "outputs": []
    },
    {
      "cell_type": "code",
      "source": [
        "a = 'angel'\n",
        "print(a)\n",
        "print(type(a))"
      ],
      "metadata": {
        "id": "vnZSl7Xio5XP"
      },
      "execution_count": null,
      "outputs": []
    },
    {
      "cell_type": "code",
      "source": [
        "a = \"A\"\n",
        "print(a)\n",
        "print(type(a))"
      ],
      "metadata": {
        "id": "kBJBX34IpFWN"
      },
      "execution_count": null,
      "outputs": []
    },
    {
      "cell_type": "code",
      "source": [
        "a = False\n",
        "print(a)\n",
        "print(type(a))"
      ],
      "metadata": {
        "id": "atUkE6BXpHi6"
      },
      "execution_count": null,
      "outputs": []
    },
    {
      "cell_type": "markdown",
      "source": [
        "collection datatype"
      ],
      "metadata": {
        "id": "J-L85BHxpZpr"
      }
    },
    {
      "cell_type": "code",
      "source": [
        "a = [1,'a',True]\n",
        "print(a)\n",
        "print(type(a))"
      ],
      "metadata": {
        "id": "qpe3uGUmpOZR"
      },
      "execution_count": null,
      "outputs": []
    },
    {
      "cell_type": "code",
      "source": [
        "a = (1,'a',True)\n",
        "print(a)\n",
        "print(type(a))"
      ],
      "metadata": {
        "id": "aJLpkIs2powE"
      },
      "execution_count": null,
      "outputs": []
    },
    {
      "cell_type": "code",
      "source": [
        "a = {1,'a',True}\n",
        "print(a)\n",
        "print(type(a))"
      ],
      "metadata": {
        "id": "KHqunRG2pw_2"
      },
      "execution_count": null,
      "outputs": []
    },
    {
      "cell_type": "code",
      "source": [
        "a = {1,'a',True,False}\n",
        "f = frozenset(a)\n",
        "print(f)\n",
        "print(type(f))"
      ],
      "metadata": {
        "id": "fi0gH8HSp7wD"
      },
      "execution_count": null,
      "outputs": []
    },
    {
      "cell_type": "markdown",
      "source": [
        "mapping datatype"
      ],
      "metadata": {
        "id": "4fVmQwTuq4hY"
      }
    },
    {
      "cell_type": "code",
      "source": [
        "a = {1:\"anu\",2:\"anjali\"}\n",
        "print(a)\n",
        "print(type(a))"
      ],
      "metadata": {
        "id": "nWPgKjwJqX9T"
      },
      "execution_count": null,
      "outputs": []
    },
    {
      "cell_type": "code",
      "source": [
        "A = 1\n",
        "a = 2\n",
        "print(A)\n",
        "print(a)"
      ],
      "metadata": {
        "id": "HbLBnSVorM9S"
      },
      "execution_count": null,
      "outputs": []
    },
    {
      "cell_type": "code",
      "source": [
        "2a = 23"
      ],
      "metadata": {
        "id": "bd2aHlYDuDCM"
      },
      "execution_count": null,
      "outputs": []
    },
    {
      "cell_type": "code",
      "source": [
        "a2 =4\n",
        "print(a2)"
      ],
      "metadata": {
        "id": "KAh3Asy1uKa-"
      },
      "execution_count": null,
      "outputs": []
    },
    {
      "cell_type": "code",
      "source": [
        "a y = 2"
      ],
      "metadata": {
        "id": "NMvSkFQzuNV3"
      },
      "execution_count": null,
      "outputs": []
    },
    {
      "cell_type": "code",
      "source": [
        "a_2 = 3\n",
        "print(a_2)"
      ],
      "metadata": {
        "id": "xDK49FHeuRQ1"
      },
      "execution_count": null,
      "outputs": []
    },
    {
      "cell_type": "code",
      "source": [
        "False = 9"
      ],
      "metadata": {
        "id": "6zissmSIuVre"
      },
      "execution_count": null,
      "outputs": []
    },
    {
      "cell_type": "code",
      "source": [
        "#sdfghjkl"
      ],
      "metadata": {
        "id": "FTOeWp4Iuex6"
      },
      "execution_count": null,
      "outputs": []
    },
    {
      "cell_type": "code",
      "source": [
        "\"\"\"rdfghj\n",
        "fghjk\n",
        "ghjkl\"\"\""
      ],
      "metadata": {
        "id": "nYpH2ujluuhR"
      },
      "execution_count": null,
      "outputs": []
    },
    {
      "cell_type": "code",
      "source": [
        "a = True\n",
        "b = int(a)\n",
        "print(type(b),b)"
      ],
      "metadata": {
        "id": "uSfZBuQqu0i3"
      },
      "execution_count": null,
      "outputs": []
    },
    {
      "cell_type": "code",
      "source": [
        "x = \" array \"\n",
        "print(len(x))"
      ],
      "metadata": {
        "id": "WxxfwSzYvZWt"
      },
      "execution_count": null,
      "outputs": []
    },
    {
      "cell_type": "code",
      "source": [
        "x.replace('y','e')"
      ],
      "metadata": {
        "id": "vefeU7rx1xTr"
      },
      "execution_count": null,
      "outputs": []
    },
    {
      "cell_type": "code",
      "source": [
        "x.strip()"
      ],
      "metadata": {
        "id": "KY3pVBmf2OUO"
      },
      "execution_count": null,
      "outputs": []
    },
    {
      "cell_type": "code",
      "source": [
        "x = x.upper()\n",
        "x"
      ],
      "metadata": {
        "id": "VOWzHtH82Z99"
      },
      "execution_count": null,
      "outputs": []
    },
    {
      "cell_type": "code",
      "source": [
        "x.lower()"
      ],
      "metadata": {
        "id": "8DC7hyjX2jrC"
      },
      "execution_count": null,
      "outputs": []
    },
    {
      "cell_type": "code",
      "source": [
        "x.title()"
      ],
      "metadata": {
        "id": "hlCp0BEA2meo"
      },
      "execution_count": null,
      "outputs": []
    },
    {
      "cell_type": "code",
      "source": [
        "x = \"HELLO\"\n",
        "print(x[0])\n",
        "print(x[-1])\n",
        "print(x[-3:-1])\n",
        "print(x[0:4:2])"
      ],
      "metadata": {
        "id": "OY3S1eNu2xaT"
      },
      "execution_count": null,
      "outputs": []
    },
    {
      "cell_type": "code",
      "source": [
        "s = \"hi it is ipcs\"\n",
        "s.split(\" \")"
      ],
      "metadata": {
        "id": "sb-tMDEX3R3H"
      },
      "execution_count": null,
      "outputs": []
    },
    {
      "cell_type": "code",
      "source": [
        "x=\" age {} is{} ,{}\"\n",
        "print(x.format(3,7,8))"
      ],
      "metadata": {
        "id": "eeX99NS74Bah"
      },
      "execution_count": null,
      "outputs": []
    },
    {
      "cell_type": "code",
      "source": [
        "a = 5\n",
        "b = 6\n",
        "print(f'hello {a} erdf {b}')"
      ],
      "metadata": {
        "id": "Qatb8PFl4SH7"
      },
      "execution_count": null,
      "outputs": []
    },
    {
      "cell_type": "code",
      "source": [
        "x=\"hello {}\"\n",
        "\n",
        "print(x.format(5))\n"
      ],
      "metadata": {
        "id": "ZsEMJXLV-Wdw"
      },
      "execution_count": null,
      "outputs": []
    },
    {
      "cell_type": "code",
      "source": [
        "x=\"my age is {}\"\n",
        "print(x.format(6))"
      ],
      "metadata": {
        "id": "Z5vP0a0i8d6j"
      },
      "execution_count": null,
      "outputs": []
    },
    {
      "cell_type": "code",
      "source": [
        "a=7\n",
        "b=8\n",
        "print(f\"day is {a}, age is {b}\")"
      ],
      "metadata": {
        "id": "WPyDARfP86Gg"
      },
      "execution_count": null,
      "outputs": []
    },
    {
      "cell_type": "code",
      "source": [
        "a=\"orange\"\n",
        "b=\"apple\"\n",
        "print(f\"{a},{b}\")"
      ],
      "metadata": {
        "id": "Hl4Z7AZL9ggr"
      },
      "execution_count": null,
      "outputs": []
    },
    {
      "cell_type": "code",
      "source": [
        "x=\"hello {}\"\n",
        "print(x.format(\"hari\"))"
      ],
      "metadata": {
        "id": "NZY-Upcp9wQ_"
      },
      "execution_count": null,
      "outputs": []
    },
    {
      "cell_type": "code",
      "source": [
        "a=\"hari\"\n",
        "a.title()"
      ],
      "metadata": {
        "id": "TiPyj7Nt-KVr"
      },
      "execution_count": null,
      "outputs": []
    },
    {
      "cell_type": "code",
      "source": [
        "a.upper()"
      ],
      "metadata": {
        "id": "83zf7HAj-UbC"
      },
      "execution_count": null,
      "outputs": []
    },
    {
      "cell_type": "code",
      "source": [
        "print(a[0:3])"
      ],
      "metadata": {
        "id": "UkEmMxWO-Z6P"
      },
      "execution_count": null,
      "outputs": []
    },
    {
      "cell_type": "code",
      "source": [
        "s=\"we are \\r vikings\\\" from south\"\n",
        "print(s)"
      ],
      "metadata": {
        "id": "4mKzVkKu-x_F"
      },
      "execution_count": null,
      "outputs": []
    },
    {
      "cell_type": "code",
      "source": [
        "s=\"my name \\\"is\\\" harishma\"\n",
        "print(s)"
      ],
      "metadata": {
        "id": "TdtjHGcn-6i7"
      },
      "execution_count": null,
      "outputs": []
    },
    {
      "cell_type": "code",
      "source": [
        "s=\"my name \\\\is\\\\ harishma\"\n",
        "print(s)"
      ],
      "metadata": {
        "id": "PSIXRkkBAAI7"
      },
      "execution_count": null,
      "outputs": []
    },
    {
      "cell_type": "code",
      "source": [
        "s=\"my name is\\n harishma\"\n",
        "print(s)"
      ],
      "metadata": {
        "id": "VC8kzUWYAWMS"
      },
      "execution_count": null,
      "outputs": []
    },
    {
      "cell_type": "code",
      "source": [
        "s=\"my\\r name is harishma\"\n",
        "print(s)"
      ],
      "metadata": {
        "id": "RQnVVc7vAksF"
      },
      "execution_count": null,
      "outputs": []
    },
    {
      "cell_type": "code",
      "source": [
        "s=\"my name is\\t harishma\"\n",
        "print(s)"
      ],
      "metadata": {
        "id": "TCdX-ok_At0w"
      },
      "execution_count": null,
      "outputs": []
    },
    {
      "cell_type": "code",
      "source": [
        "s=\"my name is harishma\\b\"\n",
        "print(s)"
      ],
      "metadata": {
        "id": "14vBTGAgA7Gt"
      },
      "execution_count": null,
      "outputs": []
    },
    {
      "cell_type": "code",
      "source": [
        "print(10<=10)"
      ],
      "metadata": {
        "id": "X4z5ylJODdBn"
      },
      "execution_count": null,
      "outputs": []
    },
    {
      "cell_type": "code",
      "source": [
        "print(bool(None))"
      ],
      "metadata": {
        "id": "f3dwzpG4DfSN"
      },
      "execution_count": null,
      "outputs": []
    },
    {
      "cell_type": "code",
      "source": [
        "print(19>25)"
      ],
      "metadata": {
        "id": "_bjc3VtyDsSp"
      },
      "execution_count": null,
      "outputs": []
    },
    {
      "cell_type": "code",
      "source": [
        "print(4==4)"
      ],
      "metadata": {
        "id": "J425VhyIERrq"
      },
      "execution_count": null,
      "outputs": []
    },
    {
      "cell_type": "code",
      "source": [
        "a=45\n",
        "print(isinstance(a,bool))"
      ],
      "metadata": {
        "id": "lnTSgLwSEZgi"
      },
      "execution_count": null,
      "outputs": []
    },
    {
      "cell_type": "code",
      "source": [
        "a=\"orange\"\n",
        "print(isinstance(a,str))"
      ],
      "metadata": {
        "id": "Z-v4VeUHEpuo"
      },
      "execution_count": null,
      "outputs": []
    },
    {
      "cell_type": "code",
      "source": [
        "bool([])\n"
      ],
      "metadata": {
        "id": "Gv49_yHaFqqF"
      },
      "execution_count": null,
      "outputs": []
    },
    {
      "cell_type": "code",
      "source": [
        "print(bool({5}))"
      ],
      "metadata": {
        "id": "xTP1nsRIGBup"
      },
      "execution_count": null,
      "outputs": []
    },
    {
      "cell_type": "code",
      "source": [
        "print(bool(1))"
      ],
      "metadata": {
        "id": "ecnnPu9jGH6o"
      },
      "execution_count": null,
      "outputs": []
    },
    {
      "cell_type": "code",
      "source": [
        "bool(0)"
      ],
      "metadata": {
        "id": "W6TfuivEGyH9"
      },
      "execution_count": null,
      "outputs": []
    },
    {
      "cell_type": "code",
      "source": [
        "import operator\n",
        "dir(operator)"
      ],
      "metadata": {
        "id": "9bNR_LcdJeHi"
      },
      "execution_count": null,
      "outputs": []
    },
    {
      "cell_type": "code",
      "source": [
        "a=2\n",
        "b=7\n",
        "print(operator.add(a,b))\n",
        "print(a+b)"
      ],
      "metadata": {
        "id": "ZBJohZtJJqVl"
      },
      "execution_count": null,
      "outputs": []
    },
    {
      "cell_type": "code",
      "source": [
        "import operator\n",
        "dir(operator)\n"
      ],
      "metadata": {
        "id": "g3tX0FopJwDN"
      },
      "execution_count": null,
      "outputs": []
    },
    {
      "cell_type": "code",
      "source": [
        "a=6\n",
        "b=45\n",
        "print(a+b)"
      ],
      "metadata": {
        "id": "q1vQHVlKLThH"
      },
      "execution_count": null,
      "outputs": []
    },
    {
      "cell_type": "code",
      "source": [
        "operator.add(a,b)"
      ],
      "metadata": {
        "id": "DjNxIVqPLced"
      },
      "execution_count": null,
      "outputs": []
    },
    {
      "cell_type": "code",
      "source": [
        "operator.sub(b,a)"
      ],
      "metadata": {
        "id": "A9hpnFpSLm5r"
      },
      "execution_count": null,
      "outputs": []
    },
    {
      "cell_type": "code",
      "source": [
        "operator.pow(a,b)"
      ],
      "metadata": {
        "id": "pnkRqHRFL5YV"
      },
      "execution_count": null,
      "outputs": []
    },
    {
      "cell_type": "code",
      "source": [
        "operator.truediv(a,b)"
      ],
      "metadata": {
        "id": "nQDJZwXrMMAg"
      },
      "execution_count": null,
      "outputs": []
    },
    {
      "cell_type": "code",
      "source": [
        "print(a/b)"
      ],
      "metadata": {
        "id": "AvnTy9gfMUC7"
      },
      "execution_count": null,
      "outputs": []
    },
    {
      "cell_type": "code",
      "source": [
        "operator.mod(a,b)"
      ],
      "metadata": {
        "id": "8Yfzwqz1McvV"
      },
      "execution_count": null,
      "outputs": []
    },
    {
      "cell_type": "code",
      "source": [
        "print(a%b)"
      ],
      "metadata": {
        "id": "k6go6MnFMjBN"
      },
      "execution_count": null,
      "outputs": []
    },
    {
      "cell_type": "code",
      "source": [
        "a=4\n",
        "a+=4\n",
        "print(a)\n"
      ],
      "metadata": {
        "id": "HgTMVbe0NSG9"
      },
      "execution_count": null,
      "outputs": []
    },
    {
      "cell_type": "code",
      "source": [
        "operator.iadd(4,4)"
      ],
      "metadata": {
        "id": "uGP9g-XgNwJZ"
      },
      "execution_count": null,
      "outputs": []
    },
    {
      "cell_type": "code",
      "source": [
        "print(a>3 or b<100)"
      ],
      "metadata": {
        "id": "JkzdJTbIOniE"
      },
      "execution_count": null,
      "outputs": []
    },
    {
      "cell_type": "code",
      "source": [
        "print(not b<100)"
      ],
      "metadata": {
        "id": "A-Ahvk2_O_Y_"
      },
      "execution_count": null,
      "outputs": []
    },
    {
      "cell_type": "code",
      "source": [
        "li=[\"apple\",\"banana\",\"orange\",\"cherry\",\"kiwi\",\"grapes\"]\n",
        "print(li)\n",
        "print(type(li))\n",
        "print(len(li))\n",
        "print(li[1:5])\n",
        "print(li[:5])\n",
        "print(li[-5:-1])\n",
        "print(li)\n",
        "li[2]=\"jackfruit\"\n",
        "print(li)\n",
        "li[2:4]=[\"orange\",\"cherry\"]\n",
        "print(li)\n"
      ],
      "metadata": {
        "id": "onDIQfBrQEuK"
      },
      "execution_count": null,
      "outputs": []
    },
    {
      "cell_type": "code",
      "source": [
        "x=(\"apple\",\"orange\",\"banana\")\n",
        "y=list(x)\n",
        "y[1]=\"cherry\"\n",
        "x=tuple(y)\n",
        "print(x)"
      ],
      "metadata": {
        "id": "d2BMVt7WQ88t"
      },
      "execution_count": null,
      "outputs": []
    },
    {
      "cell_type": "code",
      "source": [],
      "metadata": {
        "id": "qpaiT6wfhuR4"
      },
      "execution_count": null,
      "outputs": []
    },
    {
      "cell_type": "code",
      "source": [
        "a=(\"hello\", \"hi\")\n",
        "b=list(a)\n",
        "b[1]=\"am\"\n",
        "a=tuple(b)\n",
        "print(a)\n"
      ],
      "metadata": {
        "id": "E8qjUttyhmCF"
      },
      "execution_count": null,
      "outputs": []
    },
    {
      "cell_type": "code",
      "source": [
        "fruits=(\"apple\",\"banana\",\"orange\")\n",
        "(green,red,yellow)=fruits\n",
        "print(green)\n",
        "print(red)\n",
        "print(yellow)"
      ],
      "metadata": {
        "id": "XrQsnaGJiNZH"
      },
      "execution_count": null,
      "outputs": []
    },
    {
      "cell_type": "code",
      "source": [
        "tu=(1,2,2,4,3,7,3)\n",
        "tu.index(3)"
      ],
      "metadata": {
        "id": "VGPdj940i7JL"
      },
      "execution_count": null,
      "outputs": []
    },
    {
      "cell_type": "code",
      "source": [
        "fruits={\"apple\",\"orange\"}\n",
        "print(fruits)\n"
      ],
      "metadata": {
        "id": "46hJzWLOjIH9"
      },
      "execution_count": null,
      "outputs": []
    },
    {
      "cell_type": "code",
      "source": [
        "fruits={\"apple\",\"orange\",\"banana\"}\n",
        "for x in fruits:\n",
        "    print(x)\n",
        "print(\"banana\" in fruits)"
      ],
      "metadata": {
        "id": "OUk39-ZMmKRz"
      },
      "execution_count": null,
      "outputs": []
    },
    {
      "cell_type": "code",
      "source": [
        "fruits.add(\"cherry\")\n",
        "print(fruits)"
      ],
      "metadata": {
        "id": "K7sCuUlMnUjD"
      },
      "execution_count": null,
      "outputs": []
    },
    {
      "cell_type": "code",
      "source": [
        "fruits1=[\"watermelon\",\"kiwi\"]\n",
        "fruits.update(fruits1)\n",
        "print(fruits)"
      ],
      "metadata": {
        "id": "VY5QQ5ZsnnOk"
      },
      "execution_count": null,
      "outputs": []
    },
    {
      "cell_type": "code",
      "source": [
        "fruits.remove(\"kiwi\")\n",
        "print(fruits)"
      ],
      "metadata": {
        "id": "uvAA6k6Vo2cI"
      },
      "execution_count": null,
      "outputs": []
    },
    {
      "cell_type": "code",
      "source": [
        "fruits.discard(\"banana\")\n",
        "print(fruits)"
      ],
      "metadata": {
        "id": "WeK3s6_CpDnP"
      },
      "execution_count": null,
      "outputs": []
    },
    {
      "cell_type": "code",
      "source": [
        "fruits.clear()\n",
        "print(fruits)"
      ],
      "metadata": {
        "id": "yA9l2koSpW3N"
      },
      "execution_count": null,
      "outputs": []
    },
    {
      "cell_type": "code",
      "source": [
        "fruits={\"apple\",\"orange\",\"banana\"}\n",
        "x=fruits.pop()\n",
        "print(x)\n",
        "print(fruits)\n",
        "\n"
      ],
      "metadata": {
        "id": "pe0YR6L6pjJR"
      },
      "execution_count": null,
      "outputs": []
    },
    {
      "cell_type": "code",
      "source": [
        "set1={1,2,3}\n",
        "set2={4,5}\n",
        "set3=set1.union(set2)\n",
        "print(set3)\n",
        "\n"
      ],
      "metadata": {
        "id": "EpFYZP4lsu1Y"
      },
      "execution_count": null,
      "outputs": []
    },
    {
      "cell_type": "code",
      "source": [
        "set1.update(set2)\n",
        "print(set1)"
      ],
      "metadata": {
        "id": "zZdez66ZtK-A"
      },
      "execution_count": null,
      "outputs": []
    },
    {
      "cell_type": "code",
      "source": [
        "x={\"apple\",\"banana\",\"orange\"}\n",
        "y={\"apple\",\"cherry\",\"orang\"}\n",
        "x.intersection_update(y)\n",
        "print(x)"
      ],
      "metadata": {
        "id": "XDgymL2gt2r9"
      },
      "execution_count": null,
      "outputs": []
    },
    {
      "cell_type": "code",
      "source": [
        "z=x.intersection(y)\n",
        "print(z)"
      ],
      "metadata": {
        "id": "ZywnB7DBuVz3"
      },
      "execution_count": null,
      "outputs": []
    },
    {
      "cell_type": "code",
      "source": [
        "fruits={\"apple\",\"banana\",\"orange\"}\n",
        "x=frozenset(fruits)\n",
        "print(x)\n"
      ],
      "metadata": {
        "id": "3MJ1HdPluv4_"
      },
      "execution_count": null,
      "outputs": []
    },
    {
      "cell_type": "code",
      "source": [
        "a=6\n",
        "b=8\n",
        "if b>a:\n",
        "    print(\"b is greater than a\")"
      ],
      "metadata": {
        "id": "5CNcH1w5rSif"
      },
      "execution_count": null,
      "outputs": []
    },
    {
      "cell_type": "code",
      "source": [
        "a=15\n",
        "b=7\n",
        "if b>a:\n",
        "    print(\"b is greater than a\")\n",
        "elif b<a:\n",
        "    print(\"b is lesser than a\")"
      ],
      "metadata": {
        "id": "w-b28pCVri4Y"
      },
      "execution_count": null,
      "outputs": []
    },
    {
      "cell_type": "code",
      "source": [
        "a=13\n",
        "b=13\n",
        "if b>a:\n",
        "    print(\"b is greater than a\")\n",
        "elif b<a:\n",
        "    print(\"a is greater thab b\")\n",
        "else:\n",
        "    print(\"a and b are same\")"
      ],
      "metadata": {
        "id": "V4OQe8bOr56k"
      },
      "execution_count": null,
      "outputs": []
    },
    {
      "cell_type": "code",
      "source": [
        "a=15\n",
        "b=6\n",
        "print(a)if a>b else print(b)"
      ],
      "metadata": {
        "id": "fH-H6XPXspiZ"
      },
      "execution_count": null,
      "outputs": []
    },
    {
      "cell_type": "code",
      "source": [
        "print(a) if a>b else print(b) if b>a else print(\"=\")"
      ],
      "metadata": {
        "id": "vKIye6YCtACg"
      },
      "execution_count": null,
      "outputs": []
    },
    {
      "cell_type": "code",
      "source": [
        "a=45\n",
        "b=59\n",
        "c=60\n",
        "if a<b and c>b:\n",
        "    print(\"both conditions are true\")\n"
      ],
      "metadata": {
        "id": "Oscaxdy8tsXC"
      },
      "execution_count": null,
      "outputs": []
    },
    {
      "cell_type": "code",
      "source": [
        "if a<b or c<b:\n",
        "    print(\"one statement is true\")"
      ],
      "metadata": {
        "id": "UMFCmfXrudXu"
      },
      "execution_count": null,
      "outputs": []
    },
    {
      "cell_type": "code",
      "source": [
        "a=2\n",
        "b=5\n",
        "if a<b:\n",
        "    print(\"a is lesser than b\")\n",
        "    if a<10:\n",
        "        print(\"a is lesser than 10\")\n",
        "else:\n",
        "    print(\"a is greater than b\")"
      ],
      "metadata": {
        "id": "P0zRpO0ruvMb"
      },
      "execution_count": null,
      "outputs": []
    },
    {
      "cell_type": "code",
      "source": [
        "a=10\n",
        "b=20\n",
        "if a>b:\n",
        "    pass"
      ],
      "metadata": {
        "id": "Eo43sAf_vk8H"
      },
      "execution_count": null,
      "outputs": []
    },
    {
      "cell_type": "code",
      "source": [
        "i=0\n",
        "while i<5:\n",
        "    i+=1\n",
        "    print(i)\n",
        "\n"
      ],
      "metadata": {
        "id": "PiAVLDKozaJN"
      },
      "execution_count": null,
      "outputs": []
    },
    {
      "cell_type": "code",
      "source": [
        "i=1\n",
        "while i<6:\n",
        "    i+=2\n",
        "    print(i)"
      ],
      "metadata": {
        "id": "s4tsPpaPz8Sd"
      },
      "execution_count": null,
      "outputs": []
    },
    {
      "cell_type": "code",
      "source": [
        "a=[1,2,3,4]\n",
        "while a:\n",
        "    print(a.pop())"
      ],
      "metadata": {
        "id": "CuKi3SVu0Tro"
      },
      "execution_count": null,
      "outputs": []
    },
    {
      "cell_type": "code",
      "source": [
        "i=0\n",
        "while i<10:\n",
        "    if i == 3:\n",
        "        i=i+1\n",
        "        continue\n",
        "    elif i == 6:\n",
        "        break\n",
        "    else:\n",
        "        print(i)\n",
        "        i=i+1"
      ],
      "metadata": {
        "id": "Ph7UP1s80qPJ"
      },
      "execution_count": null,
      "outputs": []
    },
    {
      "cell_type": "code",
      "source": [
        "i=0\n",
        "while i<10:\n",
        "    if i==2:\n",
        "        i=i+1\n",
        "        continue\n",
        "    elif i==10:\n",
        "        i=i+1\n",
        "        break\n",
        "    else:\n",
        "        print(i)\n",
        "        i=i+1\n"
      ],
      "metadata": {
        "id": "mDOm3Jxl0xqe"
      },
      "execution_count": null,
      "outputs": []
    },
    {
      "cell_type": "code",
      "source": [],
      "metadata": {
        "id": "__U3TFsb6buX"
      },
      "execution_count": null,
      "outputs": []
    },
    {
      "cell_type": "code",
      "source": [
        "i=0\n",
        "while i<5:\n",
        "    i=i+1\n",
        "    print(i)\n",
        "else:\n",
        "    print(\"no break\\n\")"
      ],
      "metadata": {
        "id": "Yz3JEmXL5oXJ"
      },
      "execution_count": null,
      "outputs": []
    },
    {
      "cell_type": "code",
      "source": [
        "for i in range(3,31,3):\n",
        "    print(i)"
      ],
      "metadata": {
        "id": "r5-CaXBN8FPN"
      },
      "execution_count": null,
      "outputs": []
    },
    {
      "cell_type": "code",
      "source": [
        "l=[\"apple\",\"banana\",\"orange\"]\n",
        "for i in l:\n",
        "    print(i)"
      ],
      "metadata": {
        "id": "ItF6_wlg8Ku5"
      },
      "execution_count": null,
      "outputs": []
    },
    {
      "cell_type": "code",
      "source": [
        "t=(\"apple\",\"banana\",\"orange\")\n",
        "for i in t:\n",
        "    print(t)"
      ],
      "metadata": {
        "id": "9EzRiV439-RT"
      },
      "execution_count": null,
      "outputs": []
    },
    {
      "cell_type": "code",
      "source": [
        "a=50\n",
        "b=60\n",
        "if a<b"
      ],
      "metadata": {
        "id": "h064zjJ7uTPa"
      },
      "execution_count": null,
      "outputs": []
    },
    {
      "cell_type": "code",
      "source": [
        "def my_func():\n",
        "    print(\"hi world!!\")\n",
        "my_func()"
      ],
      "metadata": {
        "id": "0hVML1-UAcFY"
      },
      "execution_count": null,
      "outputs": []
    },
    {
      "cell_type": "code",
      "source": [
        "def my_func(x):\n",
        "    print(\"hi world!!\",x)\n",
        "my_func(10)"
      ],
      "metadata": {
        "id": "c45PkR9TAriy"
      },
      "execution_count": null,
      "outputs": []
    },
    {
      "cell_type": "code",
      "source": [
        "def my_func(x,y):\n",
        "    print(\"hi world!!\",x,y)\n",
        "my_func(10,55)"
      ],
      "metadata": {
        "id": "GDOMCWIWAzJi"
      },
      "execution_count": null,
      "outputs": []
    },
    {
      "cell_type": "code",
      "source": [
        "def my_func(a,b):\n",
        "    print(\"hi world!!\",a,b)\n",
        "my_func(a=10,b=77)"
      ],
      "metadata": {
        "id": "oUQzPyvdA4Ma"
      },
      "execution_count": null,
      "outputs": []
    },
    {
      "cell_type": "code",
      "source": [
        "def my_func(*a):\n",
        "    print(\"hi world!!\",a[5])\n",
        "my_func(10,20,30,40,50,69)"
      ],
      "metadata": {
        "id": "Sx7B-ox2BAAl"
      },
      "execution_count": null,
      "outputs": []
    },
    {
      "cell_type": "code",
      "source": [
        "def my_func(**a):\n",
        "    print(\"hi world!!\",a)\n",
        "my_func(a=10,b=77,c=56,d=89)"
      ],
      "metadata": {
        "id": "7_UTrFkOBqz0"
      },
      "execution_count": null,
      "outputs": []
    },
    {
      "cell_type": "code",
      "source": [
        "def hai():\n",
        "    print(\"hello world\")\n",
        "hai()"
      ],
      "metadata": {
        "id": "WNrgcVSNB9fa"
      },
      "execution_count": null,
      "outputs": []
    },
    {
      "cell_type": "code",
      "source": [
        "def fruits(a,b):\n",
        "    print(\"bucket\",a,b)\n",
        "fruits(\"apple\",\"orange\")"
      ],
      "metadata": {
        "id": "8310exbAC5JG"
      },
      "execution_count": null,
      "outputs": []
    },
    {
      "cell_type": "code",
      "source": [
        "def fruits(*a):\n",
        "    print(\"bucket\",a)\n",
        "fruits(\"apple\",\"orange\",\"banana\",\"lemon\")\n"
      ],
      "metadata": {
        "id": "IPJFHqZmEGD2"
      },
      "execution_count": null,
      "outputs": []
    },
    {
      "cell_type": "code",
      "source": [
        "def fruits(**a):\n",
        "    print(\"bucket\",a)\n",
        "fruits(a=\"apple\",b=\"orange\",c=\"banana\",d=\"lemon\")"
      ],
      "metadata": {
        "id": "HuIhEP28EbPN"
      },
      "execution_count": null,
      "outputs": []
    },
    {
      "cell_type": "code",
      "source": [
        "def evenodd(a):\n",
        "    if a%2==0:\n",
        "        print(\"even\")\n",
        "    else:\n",
        "        print(\"odd\")\n",
        "evenodd(15)\n"
      ],
      "metadata": {
        "id": "cktssrq-FBh2"
      },
      "execution_count": null,
      "outputs": []
    },
    {
      "cell_type": "code",
      "source": [
        "def values(a,b=18):\n",
        "    print(\"numbers are\",a,b)\n",
        "values(10,75)\n"
      ],
      "metadata": {
        "id": "kteYINZnF0bG"
      },
      "execution_count": null,
      "outputs": []
    },
    {
      "cell_type": "code",
      "source": [
        "def student(firstname,secondname):\n",
        "    print(firstname,secondname)\n",
        "student(firstname=\"hello\",secondname=\"python\")\n",
        "student(firstname=\"hai\",secondname=\"java\")"
      ],
      "metadata": {
        "id": "vURi1MIHGSh1"
      },
      "execution_count": null,
      "outputs": []
    },
    {
      "cell_type": "code",
      "source": [
        "def student(firstname,secondname):\n",
        "    print(firstname,secondname)\n",
        "student(\"hello\",\"python\")\n",
        "student(\"hai\",\"java\")"
      ],
      "metadata": {
        "id": "C4NUu4WVHggN"
      },
      "execution_count": null,
      "outputs": []
    },
    {
      "cell_type": "code",
      "source": [
        "def fruits(*a):\n",
        "    print(\"bucket\",a[1])\n",
        "fruits(\"apple\",\"orange\",\"banana\",\"lemon\")"
      ],
      "metadata": {
        "id": "RI7tqYmiHt9V"
      },
      "execution_count": null,
      "outputs": []
    },
    {
      "cell_type": "code",
      "source": [
        "def mu_function(*avrg):\n",
        "    for x in avrg:\n",
        "        print(x)\n",
        "mu_function(\"hello\",\"my\",\"name\",\"is\",\"harishma\")"
      ],
      "metadata": {
        "id": "LEs0G4KCH5OV"
      },
      "execution_count": null,
      "outputs": []
    },
    {
      "cell_type": "code",
      "source": [
        "def my_function(**students):\n",
        "    print(\"they are\",students)\n",
        "my_function(a=\"hari\",b=\"anu\",c=\"ammu\")\n"
      ],
      "metadata": {
        "id": "O6tHSVzJInK9"
      },
      "execution_count": null,
      "outputs": []
    },
    {
      "cell_type": "code",
      "source": [
        "def my_function(student):\n",
        "    print(\"his name is\" + student)\n",
        "my_function(\" vijay\")"
      ],
      "metadata": {
        "id": "_cWh3wTHJcQ-"
      },
      "execution_count": null,
      "outputs": []
    },
    {
      "cell_type": "code",
      "source": [
        "def squre(num):\n",
        "    return num**2\n",
        "print(squre(3))\n"
      ],
      "metadata": {
        "id": "7vDjy4hpK9kP"
      },
      "execution_count": null,
      "outputs": []
    },
    {
      "cell_type": "code",
      "source": [
        "def f1():\n",
        "    a=\"hello world\"\n",
        "    def f2():\n",
        "        print(a)\n",
        "    f2()\n",
        "f1()\n"
      ],
      "metadata": {
        "id": "p8ehN8k5Ld89"
      },
      "execution_count": null,
      "outputs": []
    },
    {
      "cell_type": "code",
      "source": [
        "f = lambda x : print(x**2)\n",
        "f(2)"
      ],
      "metadata": {
        "id": "qRNPrvd4Mptc"
      },
      "execution_count": null,
      "outputs": []
    },
    {
      "cell_type": "code",
      "source": [
        "a=lambda y:print(y*2)\n",
        "f(3)"
      ],
      "metadata": {
        "id": "mE_m7ERCM6kd"
      },
      "execution_count": null,
      "outputs": []
    },
    {
      "cell_type": "code",
      "source": [
        "x=\"hello python\"\n",
        "(lambda x:print(x))(x)\n",
        "\n",
        "\n"
      ],
      "metadata": {
        "id": "bTQzUCkjOuXt"
      },
      "execution_count": null,
      "outputs": []
    },
    {
      "cell_type": "code",
      "source": [
        "def cube(y):\n",
        "    return y*y*y;\n",
        "g=lambda x:x*x*x\n",
        "print(g(5))\n",
        "cube(5)"
      ],
      "metadata": {
        "id": "qWIErR3aQNe-"
      },
      "execution_count": null,
      "outputs": []
    },
    {
      "cell_type": "code",
      "source": [
        "def myfunction():\n",
        "    s=\"i love python\"\n",
        "    print(s)\n",
        "myfunction()\n"
      ],
      "metadata": {
        "id": "39Xkik-MUcX2"
      },
      "execution_count": null,
      "outputs": []
    },
    {
      "cell_type": "code",
      "source": [
        "def myfunction():\n",
        "    s=\"me too\"\n",
        "    print(s)\n",
        "s=\"hello world\"\n",
        "myfunction()\n",
        "print(s)"
      ],
      "metadata": {
        "id": "pBapPcTLU7z6"
      },
      "execution_count": null,
      "outputs": []
    },
    {
      "cell_type": "code",
      "source": [
        "a=1\n",
        "def f1():\n",
        "    print(\"f1\",a)\n",
        "def g1():\n",
        "    a=2\n",
        "    print(\"g1\",a)\n",
        "def h1():\n",
        "    global a\n",
        "    a=3\n",
        "    print(\"h1\",a)\n",
        "f1()\n",
        "print(\"global\",a)\n",
        "g1()\n",
        "print(\"global\",a)\n",
        "h1()\n",
        "print(\"global\",a)\n",
        "\n",
        "\n"
      ],
      "metadata": {
        "id": "6nyOBa1EVo6i"
      },
      "execution_count": null,
      "outputs": []
    },
    {
      "cell_type": "code",
      "source": [
        "def shout(text):\n",
        "    return text.upper()\n",
        "print(shout(\"hello\"))\n",
        "yell=shout\n",
        "print(yell(\"hello\"))\n",
        "\n",
        "\n"
      ],
      "metadata": {
        "id": "umokCCyDZ_AJ"
      },
      "execution_count": null,
      "outputs": []
    },
    {
      "cell_type": "code",
      "source": [
        "def shout(text):\n",
        "    return text.upper()\n",
        "def whisper(text):\n",
        "    return text.lower()\n",
        "def greet(fun):\n",
        "    greeting=fun(\"\"\"hello i am harishma\"\"\")\n",
        "    print(greeting)\n",
        "greet(shout)\n",
        "greet(whisper)\n"
      ],
      "metadata": {
        "id": "AEHSdWPZchHx"
      },
      "execution_count": null,
      "outputs": []
    },
    {
      "cell_type": "code",
      "source": [
        "def create_adder(x):\n",
        "    def adder(y):\n",
        "        return(x+y)\n",
        "    return adder\n",
        "add_15=create_adder(20)\n",
        "print(add_15(10))\n"
      ],
      "metadata": {
        "id": "2ZQIIfB_eYNe"
      },
      "execution_count": null,
      "outputs": []
    },
    {
      "cell_type": "code",
      "source": [
        "num = int(input(\"enter a number\"))\n",
        "def fact(num):\n",
        "    if num == 1 or num == 0:\n",
        "          return 1\n",
        "    else:\n",
        "          return num*fact(num-1)#recursion\n",
        "result = fact(num)\n",
        "print(f'result:{result}')"
      ],
      "metadata": {
        "id": "JlHk4Pc_hbuU"
      },
      "execution_count": null,
      "outputs": []
    },
    {
      "cell_type": "code",
      "source": [
        "def add(x+y):\n",
        "    return(x+y\n"
      ],
      "metadata": {
        "id": "ytjzoE6Cj0ss"
      },
      "execution_count": null,
      "outputs": []
    },
    {
      "cell_type": "code",
      "source": [
        "import math\n",
        "dir(math)"
      ],
      "metadata": {
        "id": "c9kpAN7PEuiY"
      },
      "execution_count": null,
      "outputs": []
    },
    {
      "cell_type": "code",
      "source": [
        "class box:\n",
        "    v=3\n",
        "    def myfunc(self):\n",
        "        print(\"func inside a class\")\n",
        "obj=box()\n",
        "print(obj.v)\n",
        "obj.myfunc()"
      ],
      "metadata": {
        "id": "NNhdpe5--8sq"
      },
      "execution_count": null,
      "outputs": []
    },
    {
      "cell_type": "code",
      "source": [
        "class cars:\n",
        "    attr1=\"bmw\"\n",
        "    attr2=\"red\"\n",
        "    def __init__(self):\n",
        "        print(\"my color is\",self.attr2)\n",
        "obj=cars()\n",
        "print(obj.attr1)\n",
        "\n"
      ],
      "metadata": {
        "id": "DrOtKkzdHUbH"
      },
      "execution_count": null,
      "outputs": []
    },
    {
      "cell_type": "code",
      "source": [
        "class person:\n",
        "    name=\"john\"\n",
        "    def __init__(self):\n",
        "        print(\"my name is\",self.name)\n",
        "obj=person()\n"
      ],
      "metadata": {
        "id": "0c9zgxCKLcVN"
      },
      "execution_count": null,
      "outputs": []
    },
    {
      "cell_type": "code",
      "source": [
        "class cars:\n",
        "    fourwhealer=\"name\"\n",
        "    def __init__(self,brand,color):\n",
        "        self.brand=brand\n",
        "        self.color=color\n",
        "    def fun(self):\n",
        "        print(\"hello\",self.brand)\n",
        "        print(\"and color is\",self.color)\n",
        "obj1=cars(\"nexon\",\"brown\")\n",
        "obj2=cars(\"ford\",\"orange\")\n",
        "obj1.fun()\n"
      ],
      "metadata": {
        "id": "oHtQ2sXaiPZd"
      },
      "execution_count": null,
      "outputs": []
    },
    {
      "cell_type": "code",
      "source": [
        "obj2.fun()"
      ],
      "metadata": {
        "id": "Z-Y14R1VO-nh"
      },
      "execution_count": null,
      "outputs": []
    },
    {
      "cell_type": "code",
      "source": [
        "class employee:\n",
        "    def __init__(self):\n",
        "        print(\"the name is\")\n",
        "    def __del__(self):\n",
        "        print(\"destroyed\")\n",
        "obj=employee()\n",
        "\n"
      ],
      "metadata": {
        "id": "lN1-PU0WQqrh"
      },
      "execution_count": null,
      "outputs": []
    },
    {
      "cell_type": "code",
      "source": [
        "class employee:\n",
        "    def __init__(self):\n",
        "        print(\"the name is\")\n",
        "    def __del__(self):\n",
        "        print(\"destroyed\")\n",
        "def create_obj():\n",
        "    print(\"object created\")\n",
        "    obj=employee()\n",
        "    print(\"object deleted\")\n",
        "create_obj()\n",
        "\n"
      ],
      "metadata": {
        "id": "k7fdkgRXPFyS"
      },
      "execution_count": null,
      "outputs": []
    },
    {
      "cell_type": "code",
      "source": [
        "string1=\"  filet mignon\"\n",
        "string2=\"bisket   \"\n",
        "string=\" cheese burger \"\n",
        "print(string1.strip())\n",
        "print(string2.strip())\n",
        "print(string.strip())\n"
      ],
      "metadata": {
        "id": "zFjAtFqCSTaS"
      },
      "execution_count": null,
      "outputs": []
    },
    {
      "cell_type": "code",
      "source": [
        "x=str(input(\"enter the value\"))\n",
        "print(x.upper())\n"
      ],
      "metadata": {
        "id": "xhsMSwGajyPP"
      },
      "execution_count": null,
      "outputs": []
    },
    {
      "cell_type": "code",
      "source": [
        "x=str(input(\"enter the value\"))\n",
        "print(len(x))\n"
      ],
      "metadata": {
        "id": "QfRd7-GqlUos"
      },
      "execution_count": null,
      "outputs": []
    },
    {
      "cell_type": "code",
      "source": [
        "x=int(input(\"enter the number\"))\n",
        "y=int(input(\"enter the second number\"))\n",
        "z=x*y\n",
        "print(\"the product of\", x ,\"and\", y ,\"is\", z)"
      ],
      "metadata": {
        "id": "inWLk8x5mbE9"
      },
      "execution_count": null,
      "outputs": []
    },
    {
      "cell_type": "code",
      "source": [
        "x=0.2\n",
        "animal=\"newt\"\n",
        "print(f\"{x} is the weight of {animal}\")"
      ],
      "metadata": {
        "id": "osKbWmq0oP6I"
      },
      "execution_count": null,
      "outputs": []
    },
    {
      "cell_type": "code",
      "source": [
        "x=\"{} is the weight of {}\"\n",
        "print(x.format(0.2,\"newt\"))"
      ],
      "metadata": {
        "id": "mIUFKbTjpldi"
      },
      "execution_count": null,
      "outputs": []
    },
    {
      "cell_type": "code",
      "source": [
        "a=[\"apple\",\"banana\",\"orange\"]\n",
        "a.append(\"cherry\")\n",
        "print(a)"
      ],
      "metadata": {
        "id": "-QplkxO3qh2v"
      },
      "execution_count": null,
      "outputs": []
    },
    {
      "cell_type": "code",
      "source": [
        "word=\"abcdefghij\"\n",
        "word[:3]+word[3:]\n"
      ],
      "metadata": {
        "id": "naYg0PDBrQnJ"
      },
      "execution_count": null,
      "outputs": []
    },
    {
      "cell_type": "code",
      "source": [
        "List=[1,2,1,3,4,2]\n",
        "print(set(List))\n"
      ],
      "metadata": {
        "id": "IBNZNrYxr-Zq"
      },
      "execution_count": null,
      "outputs": []
    },
    {
      "cell_type": "code",
      "source": [
        "a={1,2,3,4}\n",
        "b=(list(a))\n",
        "b.append(5)\n",
        "a=set(b)\n",
        "print(a)\n"
      ],
      "metadata": {
        "id": "SaaMYfUHspt2"
      },
      "execution_count": null,
      "outputs": []
    },
    {
      "cell_type": "code",
      "source": [
        "a={1,2,3,4}\n",
        "b=list(a)\n",
        "b.remove(3)\n",
        "a=set(b)\n",
        "print(a)\n"
      ],
      "metadata": {
        "id": "z4XzYHGSuYb4"
      },
      "execution_count": null,
      "outputs": []
    },
    {
      "cell_type": "code",
      "source": [
        "setx = set([\"green\", \"blue\"])\n",
        "sety = set([\"blue\", \"yellow\"])\n",
        "c=setx.intersection(sety)\n",
        "print(c)\n"
      ],
      "metadata": {
        "id": "HDUf2GQZvCUA"
      },
      "execution_count": null,
      "outputs": []
    },
    {
      "cell_type": "code",
      "source": [
        "setx.pop()\n",
        "print(setx)"
      ],
      "metadata": {
        "id": "yMBnKlqQwdQ_"
      },
      "execution_count": null,
      "outputs": []
    },
    {
      "cell_type": "code",
      "source": [
        "sety.clear()\n",
        "print(sety)\n"
      ],
      "metadata": {
        "id": "Ohkbi5a5wpVm"
      },
      "execution_count": null,
      "outputs": []
    },
    {
      "cell_type": "code",
      "source": [
        "name={\"a\":\"ammu\",\"b\":\"anu\",\"c\":\"appu\"}\n",
        "print(name)\n",
        "name[\"d\"]=\"ann\"\n",
        "print(name)"
      ],
      "metadata": {
        "id": "b9EbsZ86wpSb"
      },
      "execution_count": null,
      "outputs": []
    },
    {
      "cell_type": "code",
      "source": [
        "sampledictionary={0: 10, 1: 20}\n",
        "sampledictionary[3]=30\n",
        "print(sampledictionary)\n"
      ],
      "metadata": {
        "id": "mBUVT02bzQ9W"
      },
      "execution_count": null,
      "outputs": []
    },
    {
      "cell_type": "code",
      "source": [
        "d={1:\"A\",2:\"B\"}\n",
        "d1={3:\"C\",4:\"D\"}\n",
        "v = list(d.items())\n",
        "v1 = list(d1.items())\n",
        "v.extend(v1)\n",
        "dic = dict(v)\n",
        "print(dic)\n"
      ],
      "metadata": {
        "id": "PS_DCoOJ0DP7"
      },
      "execution_count": null,
      "outputs": []
    },
    {
      "cell_type": "code",
      "source": [
        "class super:\n",
        "    #public method\n",
        "    var1=None\n",
        "    #protected\n",
        "    _var2=None\n",
        "    #private\n",
        "    __var3=None\n",
        "\n",
        "    def __init__(self,var1,_var2,__var3):\n",
        "        self.var1=var1\n",
        "        self._var2=var2\n",
        "        self.__var3=var3\n",
        "    def dispalypublicmembers(self):\n",
        "        print(\"public data member\",self.var1)\n",
        "    def _displayprotectedmembers(self):\n",
        "        print(\"protected data member\",self._var2)\n",
        "    def __displayprivatemembers(self):\n",
        "        print(\"private data member\",self__var3)\n",
        "    def accessprivatenumber(self):\n",
        "        self.__displayprivatemembers()\n",
        "class sub(super):\n",
        "    def __init__(self,var1,var2,var3):\n",
        "        super.__init__(self,var1,var2,var3)\n",
        "    def accessprotectedmember(self):\n",
        "        self._displayprotectedmembers()\n",
        "obj=sub(\"geeks\",4,\"geeks!\")\n",
        "obj.displayPublicmembers()\n",
        "obj.accessProtectedmembers()\n",
        "obj.accessPrivatemembers()\n",
        "print()\n",
        "obj.displayprotectedmembers()\n",
        "obj._super__displayprivatemembers()\n",
        "print()\n",
        "print(\"object is accesing protected members\",obj._var2)\n",
        "print(\"object is accesing private members\",obj._super__var3)\n",
        "\n",
        "\n",
        "\n",
        "\n",
        "\n"
      ],
      "metadata": {
        "id": "OBJhWHCl0hXJ"
      },
      "execution_count": null,
      "outputs": []
    },
    {
      "cell_type": "code",
      "source": [
        "class geek:\n",
        "    def __init__(self,name,age):\n",
        "        self.geekname=name\n",
        "        self.geekage=age\n",
        "    def displayage(self):\n",
        "        print(\"age:\",self.geekage)\n",
        "obj=geek(\"R2J\",20)\n",
        "print(\"list of fields and methods inside obj:\",dir(obj))\n",
        "print(\"name:\",obj.geekname)\n",
        "obj.displayage()"
      ],
      "metadata": {
        "id": "-FdIh2ncUTnZ"
      },
      "execution_count": null,
      "outputs": []
    },
    {
      "cell_type": "code",
      "source": [
        "class student:\n",
        "    _name=None\n",
        "    _roll=None\n",
        "    _branch=None\n",
        "    def __init__(self,name,roll,branch):\n",
        "        self._name=name\n",
        "        self._roll=roll\n",
        "        self._branch=branch\n",
        "    def _displayrollandbranch(self):\n",
        "        print(\"roll:\",self._roll)\n",
        "        print(\"branch:\",self._branch)\n",
        "class geek(student):\n",
        "    def __init__(self,name,roll,branch):\n",
        "        student.__init__(self,name,roll,branch)\n",
        "    def displaydetails(self):\n",
        "        print(\"name:\",self._name)\n",
        "        self._displayrollandbranch()\n",
        "stu=student(\"alpha\",1234567,\"computer science\")\n",
        "print(dir(stu))\n",
        "print(stu._name)\n",
        "stu._displayrollandbranch()\n",
        "\n",
        "obj= geek(\"R2J\",1706256,\"information technology\")\n",
        "print(\"\")\n",
        "print(dir(obj))\n",
        "obj.displaydetails()\n",
        "\n",
        "\n",
        "\n",
        "\n",
        "\n"
      ],
      "metadata": {
        "id": "Ivyl_YAAXafS"
      },
      "execution_count": null,
      "outputs": []
    },
    {
      "cell_type": "code",
      "source": [
        "class geek:\n",
        "    __name=None\n",
        "    __roll=None\n",
        "    __branch=None\n",
        "\n",
        "    def __init__(self,name,roll,branch):\n",
        "        self.__name=name\n",
        "        self.__roll=roll\n",
        "        self.__branch=branch\n",
        "    def __displaydetails(self):\n",
        "        print(\"name\",self.__name)\n",
        "        print(\"roll\",self.__roll)\n",
        "        print(\"branch\",self.__branch)\n",
        "\n",
        "    def accessprivatefunction(self):\n",
        "        self.__displaydetails()\n",
        "obj=geek(\"hello\",123,\"computer\")\n",
        "print(dir(obj))\n",
        "print(\"\")\n",
        "\n",
        "print(obj._geek__name)\n",
        "print(obj._geek__roll)\n",
        "print(obj._geek__branch)\n",
        "obj._geek__displaydetails()\n",
        "print(\"\")\n",
        "obj.accessprivatefunction()\n"
      ],
      "metadata": {
        "id": "_z7fxarXmDT6"
      },
      "execution_count": null,
      "outputs": []
    },
    {
      "cell_type": "code",
      "source": [
        "class GParent:\n",
        "  def gdisplay(self):\n",
        "    print(\"GParent\")\n",
        "class Parent(GParent):\n",
        "  def pdisplay(self):\n",
        "    print(\"Parent\")\n",
        "class Parent2(GParent):\n",
        "  def p2display(self):\n",
        "    print(\"Parent2\")\n",
        "class Child(Parent,Parent2):\n",
        "  def display(self):\n",
        "    print(\"Child\")"
      ],
      "metadata": {
        "id": "bpwlhlxUlJTB"
      },
      "execution_count": null,
      "outputs": []
    },
    {
      "cell_type": "code",
      "source": [
        "ob = Child()\n",
        "ob.pdisplay()\n",
        "ob.gdisplay()\n",
        "ob.p2display()"
      ],
      "metadata": {
        "id": "ILiwvUQcld2r"
      },
      "execution_count": null,
      "outputs": []
    },
    {
      "cell_type": "code",
      "source": [
        "class person(object):\n",
        "  def __init__(self,name):\n",
        "    self.name=name\n",
        "  def getname(self):\n",
        "    return self.name\n",
        "  def isemployee(self):\n",
        "    return False\n",
        "class employee(person):\n",
        "  def isemployee(self):\n",
        "    return True\n",
        "emp=person(\"sathyan\")\n",
        "print(emp.getname(),emp.isemployee())\n",
        "emp=employee(\"vignesh\")\n",
        "print(emp.getname(),emp.isemployee())\n"
      ],
      "metadata": {
        "id": "5q90fzEGloVV"
      },
      "execution_count": null,
      "outputs": []
    },
    {
      "cell_type": "code",
      "source": [
        "class person():\n",
        "  def __init__(self,name,idnumber):\n",
        "    self.name=name\n",
        "    self.idnumber=idnumber\n",
        "  def display(self):\n",
        "    print(self.name)\n",
        "    print(self.idnumber)\n",
        "class employee(person):\n",
        "  def __init__(self,name,idnumber,salary,post):\n",
        "    super().__init__(name,idnumber)\n",
        "    self.salary=salary\n",
        "    self.post=post\n",
        "a=employee(\"hari\",1234,30000,\"trainee\")\n",
        "a.display()\n"
      ],
      "metadata": {
        "id": "PhdrefddqTLh"
      },
      "execution_count": null,
      "outputs": []
    },
    {
      "cell_type": "code",
      "source": [
        "class base1(object):\n",
        "  def __init__(self):\n",
        "    self.str1='hello'\n",
        "    print(base1)\n",
        "class base2(object):\n",
        "  def __init__(self):\n",
        "    self.str2=\"hi\"\n",
        "    print(base2)\n",
        "class derived(base1,base2):\n",
        "  def __init__(self):\n",
        "    base1.__init__(self)\n",
        "    base2.__init__(self)\n",
        "    print(\"derived\")\n",
        "  def printstrs(self):\n",
        "    print(self.str1,self.str2)\n",
        "obj=derived()\n",
        "obj.printstrs()\n"
      ],
      "metadata": {
        "id": "6OSZW0bMtYbe"
      },
      "execution_count": null,
      "outputs": []
    },
    {
      "cell_type": "code",
      "source": [
        "class base(object):\n",
        "  def __init__(self,name):\n",
        "    self.name=name\n",
        "  def getname(self):\n",
        "    return self.name\n",
        "class child(base):\n",
        "  def __init__(self,name,age):\n",
        "    base.__init__(self,name)\n",
        "    self.age=age\n",
        "  def getage(self):\n",
        "    return self.age\n",
        "class grandchild(child):\n",
        "  def __init__(self,name,age,address):\n",
        "    child. __init__(self,name,age)\n",
        "    self.address=address\n",
        "  def getaddress(self):\n",
        "    return self.address\n",
        "g=grandchild(\"vignesh\",23,\"tsr\")\n",
        "print(g.getname(),g.getage(),g.getaddress())\n",
        "\n"
      ],
      "metadata": {
        "id": "P2cqxGWOdXiK"
      },
      "execution_count": null,
      "outputs": []
    },
    {
      "cell_type": "code",
      "source": [
        "def add(x,y,z=0):\n",
        "  return x+y+z\n",
        "print(add(1,2))\n",
        "print(add(1,2,3))"
      ],
      "metadata": {
        "id": "72nO8Y6MiScU"
      },
      "execution_count": null,
      "outputs": []
    },
    {
      "cell_type": "code",
      "source": [
        "class india:\n",
        "  def capital(self):\n",
        "    print(\"new delhi is the capital of india\")\n",
        "  def language(self):\n",
        "    print(\"hindi\")\n",
        "  def type(self):\n",
        "    print(\"india is a developing country\")\n",
        "class usa:\n",
        "  def capital(self):\n",
        "    print(\"washington is the capital of usa\")\n",
        "  def language(self):\n",
        "    print(\"english\")\n",
        "  def type(self):\n",
        "    print(\"usa is a developed country\")\n",
        "obj_ind=india()\n",
        "obj_usa=usa()\n",
        "for country in (obj_ind,obj_usa):\n",
        "  country.capital()\n",
        "  country.language()\n",
        "  country.type()\n"
      ],
      "metadata": {
        "id": "xGN97GMHk08j"
      },
      "execution_count": null,
      "outputs": []
    },
    {
      "cell_type": "code",
      "source": [
        "class bird:\n",
        "  def intro(self):\n",
        "    print(\"there are so many birds\")\n",
        "  def flight(self):\n",
        "    print(\"most of the birds fly but someone cannot\")\n",
        "class sparrow(bird):\n",
        "  def flight(self):\n",
        "    print('sparrows can fly')\n",
        "class ostrich(bird):\n",
        "  def flight(self):\n",
        "    print('ostriches cannot fly')\n",
        "obj_bird=bird()\n",
        "obj_sparrow=sparrow()\n",
        "obj_ostrich=ostrich()\n",
        "obj_bird.intro()\n",
        "obj_bird.flight()\n",
        "obj_sparrow.intro()\n",
        "obj_sparrow.flight()\n",
        "obj_ostrich.intro()\n",
        "obj_ostrich.flight()\n"
      ],
      "metadata": {
        "id": "JiH8lo1XosGU"
      },
      "execution_count": null,
      "outputs": []
    },
    {
      "cell_type": "code",
      "source": [
        "mytuple=(\"anu\",\"ammu\",\"appu\")\n",
        "myt=iter(mytuple)\n",
        "print(next(myt))\n",
        "print(next(myt))\n",
        "print(next(myt))"
      ],
      "metadata": {
        "id": "NUeJ39arzdlA"
      },
      "execution_count": null,
      "outputs": []
    },
    {
      "cell_type": "code",
      "source": [
        "mystring=\"tiger\"\n",
        "stri=iter(mystring)\n",
        "print(next(stri))\n",
        "print(next(stri))\n",
        "print(next(stri))\n",
        "print(next(stri))\n",
        "print(next(stri))\n"
      ],
      "metadata": {
        "id": "ddq6Q7jm0Pzf"
      },
      "execution_count": null,
      "outputs": []
    },
    {
      "cell_type": "code",
      "source": [
        "mytuple=(\"apple\",\"banana\",\"orange\")\n",
        "for i in mytuple:\n",
        "  print(i)"
      ],
      "metadata": {
        "id": "J1oVl0wF0tGD"
      },
      "execution_count": null,
      "outputs": []
    },
    {
      "cell_type": "code",
      "source": [
        "class mynumbers:\n",
        "  def __iter__(self):\n",
        "    self.a=1\n",
        "    return self\n",
        "  def __next__(self):\n",
        "    x=self.a\n",
        "    self.a+=1\n",
        "    return x\n",
        "\n",
        "myclass=mynumbers()\n",
        "\n",
        "\n",
        "myiter=iter(myclass)\n",
        "print(next(myiter))\n",
        "print(next(myiter))\n",
        "print(next(myiter))\n",
        "print(next(myiter))\n",
        "print(next(myiter))\n",
        "print(next(myiter))\n",
        "print(next(myiter))\n",
        "print(next(myiter))\n",
        "print(next(myiter))\n",
        "print(next(myiter))\n",
        "\n"
      ],
      "metadata": {
        "id": "s3W4R7_71kRW"
      },
      "execution_count": null,
      "outputs": []
    },
    {
      "cell_type": "code",
      "source": [],
      "metadata": {
        "id": "T8Q-1poP5NAe"
      },
      "execution_count": null,
      "outputs": []
    },
    {
      "cell_type": "code",
      "source": [
        "def greeting():\n",
        "  print(\"hi\")\n",
        "  yield 1\n",
        "  print(\"i am\")\n",
        "  yield 2\n",
        "  print(\"harishma\")\n",
        "  yield 3\n",
        "messenger=greeting()\n",
        "result=next(messenger)\n",
        "result=next(messenger)\n",
        "result=next(messenger)\n",
        "print(result)\n",
        "\n",
        "\n",
        "\n"
      ],
      "metadata": {
        "id": "BmsRHHTe5kYp"
      },
      "execution_count": null,
      "outputs": []
    },
    {
      "cell_type": "code",
      "source": [
        "import threading\n",
        "\n",
        "def task():\n",
        "  print(\"thread running\")\n",
        "thread=threading.Thread(target=task)\n",
        "thread.start()\n"
      ],
      "metadata": {
        "id": "dKIEJ3lh5ysS"
      },
      "execution_count": null,
      "outputs": []
    },
    {
      "cell_type": "code",
      "source": [
        "#multiple threading\n",
        "import threading\n",
        "def task1():\n",
        "  print(\"task1\")\n",
        "def task2():\n",
        "  print(\"task2\")\n",
        "thread1=threading.Thread(target=task1)\n",
        "thread2=threading.Thread(target=task2)\n",
        "thread1.start()\n",
        "thread1.join()\n",
        "thread2.start()\n",
        "thread2.join()\n",
        "\n"
      ],
      "metadata": {
        "id": "jwDCCws361KY"
      },
      "execution_count": null,
      "outputs": []
    },
    {
      "cell_type": "code",
      "source": [
        "data = open(\"/content/file.txt\",\"r\")\n",
        "# print(data.read())\n",
        "for i in data:\n",
        "  print(i)"
      ],
      "metadata": {
        "colab": {
          "base_uri": "https://localhost:8080/"
        },
        "id": "Ep6rzyLxVAG3",
        "outputId": "a9a48744-28d7-474b-ea0b-1ddc02d14128"
      },
      "execution_count": null,
      "outputs": [
        {
          "output_type": "stream",
          "name": "stdout",
          "text": [
            "hello my name is anu.\n"
          ]
        }
      ]
    },
    {
      "cell_type": "code",
      "source": [
        "\n",
        "data = open(\"/content/file.txt\",\"w\")\n",
        "data.write(\"hello\")\n",
        "data.close()"
      ],
      "metadata": {
        "id": "xML8CMQBVfp5"
      },
      "execution_count": null,
      "outputs": []
    },
    {
      "cell_type": "code",
      "source": [
        "data = open(\"/content/file.txt\",\"a\")\n",
        "data.write(\",my name is anu\")\n",
        "data.close()"
      ],
      "metadata": {
        "id": "BdvMV5T4Vlr5"
      },
      "execution_count": null,
      "outputs": []
    },
    {
      "cell_type": "code",
      "source": [
        "data=open(\"/content/python.txt\",\"r\")\n",
        "print(data.read())\n",
        "for i in data:\n",
        "  print(i)"
      ],
      "metadata": {
        "colab": {
          "base_uri": "https://localhost:8080/"
        },
        "id": "JNE6-oY0XC2J",
        "outputId": "11c8d866-e501-4298-cdd7-a830af37c293"
      },
      "execution_count": null,
      "outputs": [
        {
          "output_type": "stream",
          "name": "stdout",
          "text": [
            "hello,\n"
          ]
        }
      ]
    },
    {
      "cell_type": "code",
      "source": [
        "data=open(\"/content/python.txt\",\"w\")\n",
        "data.write(\"i am python\")\n",
        "data.close()"
      ],
      "metadata": {
        "id": "lhba36_KYTQE"
      },
      "execution_count": null,
      "outputs": []
    },
    {
      "cell_type": "code",
      "source": [
        "data=open(\"/content/python.txt\",\"w\")\n",
        "data.write(\"this is a written command\")\n",
        "data.write(\"this make more sence\")\n",
        "data.close()"
      ],
      "metadata": {
        "id": "2_ICXpoTYpzU"
      },
      "execution_count": null,
      "outputs": []
    },
    {
      "cell_type": "code",
      "source": [],
      "metadata": {
        "id": "GgtuhDHLZ3ix"
      },
      "execution_count": null,
      "outputs": []
    },
    {
      "cell_type": "code",
      "source": [
        "data=open(\"/content/python.txt\",\"a\")\n",
        "data.writelines([\"hello, i am python \",\"\\ni am java\"])\n",
        "data.close()"
      ],
      "metadata": {
        "id": "iMjrZihAZGXz"
      },
      "execution_count": null,
      "outputs": []
    },
    {
      "cell_type": "code",
      "source": [
        "file1=open(\"/content/file1.txt\",\"w\")\n",
        "L=[\"this is delhi\\n\", \"this is paris\\n\",\"this is london\"]\n",
        "file1.writelines(L)\n",
        "file1.close()\n",
        "file1=open(\"/content/file1.txt\",\"a\")\n",
        "file1.write(\"\\n\")\n",
        "file1.write(\"today is tuesday\")\n",
        "file1.write(\"tommarrow is wednesday\")\n",
        "file1=open(\"/content/file1.txt\",\"r\")\n",
        "print(\"output of readlines after appending\")\n",
        "print(file1.read())\n",
        "print()\n",
        "file1.close()"
      ],
      "metadata": {
        "colab": {
          "base_uri": "https://localhost:8080/"
        },
        "id": "EaBZ0hZzauLB",
        "outputId": "a95fd0b0-a6d5-40a5-def1-47e7752e0220"
      },
      "execution_count": null,
      "outputs": [
        {
          "output_type": "stream",
          "name": "stdout",
          "text": [
            "output of readlines after appending\n",
            "this is delhi\n",
            "this is paris\n",
            "this is london\n",
            "today is tuesdaytommarrow is wednesday\n",
            "\n"
          ]
        }
      ]
    },
    {
      "cell_type": "code",
      "source": [
        "L=[\"this is paris\\n\",\"this is londan\\n\",\"this is delhi\\n\"]\n",
        "with open(\"/content/file2.txt\",\"w\")as file2:\n",
        "  file2.write(\"hello\\n\")\n",
        "  file2.writelines(L)\n",
        "with open(\"/content/file2.txt\",\"a\")as file2:\n",
        "  file2.write(\"today is tuesday\")\n",
        "with open(\"/content/file2.txt\",\"r\")as file2:\n",
        "  print(file2.read())\n",
        "\n"
      ],
      "metadata": {
        "colab": {
          "base_uri": "https://localhost:8080/"
        },
        "id": "hBR0_T3laK3h",
        "outputId": "342812ef-bb1f-4cf2-f5b6-eaea86d4c10f"
      },
      "execution_count": null,
      "outputs": [
        {
          "output_type": "stream",
          "name": "stdout",
          "text": [
            "hello\n",
            "this is paris\n",
            "this is londan\n",
            "this is delhi\n",
            "today is tuesday\n"
          ]
        }
      ]
    },
    {
      "cell_type": "code",
      "source": [
        "a=[1,2,3]\n",
        "try:\n",
        "  print(\"second element =\",a[1])\n",
        "  print(\"fourth element =\",a[3])\n",
        "except:\n",
        "  print(\"an errror occured\")"
      ],
      "metadata": {
        "colab": {
          "base_uri": "https://localhost:8080/"
        },
        "id": "vS7VzIGKi5MT",
        "outputId": "51b9e588-ba9b-47a2-81eb-76569c0b552f"
      },
      "execution_count": null,
      "outputs": [
        {
          "output_type": "stream",
          "name": "stdout",
          "text": [
            "second element = 2\n",
            "an errror occured\n"
          ]
        }
      ]
    },
    {
      "cell_type": "code",
      "source": [
        "def fun(a):\n",
        "  if a<4:\n",
        "    b=a/(a-3)\n",
        "  print(\"value of b=\",b)\n",
        "try:\n",
        "  # fun(3)\n",
        "  fun(4)\n",
        "except ZeroDivisionError:\n",
        "  print(\"zero division error occured and handled\")\n",
        "except NameError:\n",
        "  print(\"name error occured and handled\")\n",
        "\n"
      ],
      "metadata": {
        "colab": {
          "base_uri": "https://localhost:8080/"
        },
        "id": "5atll0HGjkQ4",
        "outputId": "88c1dc79-14f3-4eeb-b1f7-446a1cfade87"
      },
      "execution_count": null,
      "outputs": [
        {
          "output_type": "stream",
          "name": "stdout",
          "text": [
            "name error occured and handled\n"
          ]
        }
      ]
    },
    {
      "cell_type": "code",
      "source": [
        "def abyb(a,b):\n",
        "  try:\n",
        "    c=(a+b)/(a-b)\n",
        "  except ZeroDivisionError:\n",
        "    print(\"a/b result in 0\")\n",
        "  else:\n",
        "    print(c)\n",
        "abyb(2.0,3.0)\n",
        "abyb(3.0,3.0)\n",
        "\n"
      ],
      "metadata": {
        "colab": {
          "base_uri": "https://localhost:8080/"
        },
        "id": "C5m3YTFBlSrO",
        "outputId": "b540ee4b-c0fe-4d46-f65d-60cd3a9e5137"
      },
      "execution_count": null,
      "outputs": [
        {
          "output_type": "stream",
          "name": "stdout",
          "text": [
            "-5.0\n",
            "a/b result in 0\n"
          ]
        }
      ]
    },
    {
      "cell_type": "code",
      "source": [
        "try:\n",
        "  k=5//0\n",
        "  print(k)\n",
        "except ZeroDivisionError:\n",
        "  print(\"cant divide by zero\")\n",
        "finally:\n",
        "  print(\"run the code\")"
      ],
      "metadata": {
        "colab": {
          "base_uri": "https://localhost:8080/"
        },
        "id": "GMSoUGwxez2X",
        "outputId": "af26f6da-00a9-4caf-f9b2-947bfd7971d3"
      },
      "execution_count": null,
      "outputs": [
        {
          "output_type": "stream",
          "name": "stdout",
          "text": [
            "cant divide by zero\n",
            "run the code\n"
          ]
        }
      ]
    },
    {
      "cell_type": "code",
      "source": [
        "try:\n",
        "  raise NameError(\"hi there\")\n",
        "except NameError:\n",
        "  print(\"an error occured\")\n",
        "  raise"
      ],
      "metadata": {
        "colab": {
          "base_uri": "https://localhost:8080/",
          "height": 238
        },
        "id": "Fx7Ev7KYgs2d",
        "outputId": "02b972c0-38b4-425b-e66f-d4c8813f2ef8"
      },
      "execution_count": null,
      "outputs": [
        {
          "output_type": "stream",
          "name": "stdout",
          "text": [
            "an error occured\n"
          ]
        },
        {
          "output_type": "error",
          "ename": "NameError",
          "evalue": "hi there",
          "traceback": [
            "\u001b[0;31m---------------------------------------------------------------------------\u001b[0m",
            "\u001b[0;31mNameError\u001b[0m                                 Traceback (most recent call last)",
            "\u001b[0;32m/tmp/ipython-input-1818208335.py\u001b[0m in \u001b[0;36m<cell line: 0>\u001b[0;34m()\u001b[0m\n\u001b[1;32m      1\u001b[0m \u001b[0;32mtry\u001b[0m\u001b[0;34m:\u001b[0m\u001b[0;34m\u001b[0m\u001b[0;34m\u001b[0m\u001b[0m\n\u001b[0;32m----> 2\u001b[0;31m   \u001b[0;32mraise\u001b[0m \u001b[0mNameError\u001b[0m\u001b[0;34m(\u001b[0m\u001b[0;34m\"hi there\"\u001b[0m\u001b[0;34m)\u001b[0m\u001b[0;34m\u001b[0m\u001b[0;34m\u001b[0m\u001b[0m\n\u001b[0m\u001b[1;32m      3\u001b[0m \u001b[0;32mexcept\u001b[0m \u001b[0mNameError\u001b[0m\u001b[0;34m:\u001b[0m\u001b[0;34m\u001b[0m\u001b[0;34m\u001b[0m\u001b[0m\n\u001b[1;32m      4\u001b[0m   \u001b[0mprint\u001b[0m\u001b[0;34m(\u001b[0m\u001b[0;34m\"an error occured\"\u001b[0m\u001b[0;34m)\u001b[0m\u001b[0;34m\u001b[0m\u001b[0;34m\u001b[0m\u001b[0m\n\u001b[1;32m      5\u001b[0m   \u001b[0;32mraise\u001b[0m\u001b[0;34m\u001b[0m\u001b[0;34m\u001b[0m\u001b[0m\n",
            "\u001b[0;31mNameError\u001b[0m: hi there"
          ]
        }
      ]
    },
    {
      "cell_type": "code",
      "source": [
        "class MyError(Exception):\n",
        "  def __init__(self,value):\n",
        "    self.value=value\n",
        "\n",
        "  def __str__(self):\n",
        "    return(repr(self.value))\n",
        "try:\n",
        "  raise MyError(3*4)\n",
        "except MyError as error:\n",
        "  print(\"a new exception occured: \" ,error.value)\n"
      ],
      "metadata": {
        "colab": {
          "base_uri": "https://localhost:8080/"
        },
        "id": "qnGJ-zhwhM-H",
        "outputId": "4f5e4148-c2b5-4b13-c020-ff0443726bd5"
      },
      "execution_count": null,
      "outputs": [
        {
          "output_type": "stream",
          "name": "stdout",
          "text": [
            "a new exception occured:  12\n"
          ]
        }
      ]
    },
    {
      "cell_type": "code",
      "source": [
        "import re\n",
        "txt=\"hello,my name is python\"\n",
        "x=re.search(\"^hello.*hi$\",txt)\n",
        "print(x)\n"
      ],
      "metadata": {
        "colab": {
          "base_uri": "https://localhost:8080/"
        },
        "id": "UrcGGOKgkYsQ",
        "outputId": "49fd6149-fba1-4e5a-db4e-009f886c177b"
      },
      "execution_count": null,
      "outputs": [
        {
          "output_type": "stream",
          "name": "stdout",
          "text": [
            "None\n"
          ]
        }
      ]
    },
    {
      "cell_type": "code",
      "source": [
        "import re\n",
        "txt=\"hello,my name is python\"\n",
        "x=re.findall(\"[a-z]\",txt)\n",
        "print(x)"
      ],
      "metadata": {
        "colab": {
          "base_uri": "https://localhost:8080/"
        },
        "id": "9Pwpdbgpm78T",
        "outputId": "3d3ef63c-3ec5-4fff-ec4e-89670abc1b3a"
      },
      "execution_count": null,
      "outputs": [
        {
          "output_type": "stream",
          "name": "stdout",
          "text": [
            "['h', 'e', 'l', 'l', 'o', 'm', 'y', 'n', 'a', 'm', 'e', 'i', 's', 'p', 'y', 't', 'h', 'o', 'n']\n"
          ]
        }
      ]
    },
    {
      "cell_type": "code",
      "source": [
        "import re\n",
        "txt='hello, i am just 20'\n",
        "x=re.findall(\"\\d\",txt)\n",
        "print(x)"
      ],
      "metadata": {
        "colab": {
          "base_uri": "https://localhost:8080/"
        },
        "id": "QuLoCRZCnaCM",
        "outputId": "1efd5051-6782-4b95-8544-4c3374217164"
      },
      "execution_count": null,
      "outputs": [
        {
          "output_type": "stream",
          "name": "stdout",
          "text": [
            "['2', '0']\n"
          ]
        },
        {
          "output_type": "stream",
          "name": "stderr",
          "text": [
            "<>:3: SyntaxWarning: invalid escape sequence '\\d'\n",
            "<>:3: SyntaxWarning: invalid escape sequence '\\d'\n",
            "/tmp/ipython-input-298492631.py:3: SyntaxWarning: invalid escape sequence '\\d'\n",
            "  x=re.findall(\"\\d\",txt)\n"
          ]
        }
      ]
    },
    {
      "cell_type": "code",
      "source": [
        "import re\n",
        "txt=\"hello,my name is python\"\n",
        "x=re.findall(\"n..e\",txt)\n",
        "print(x)"
      ],
      "metadata": {
        "colab": {
          "base_uri": "https://localhost:8080/"
        },
        "id": "mznisxOJoEOr",
        "outputId": "33c055f4-779f-4a25-c276-29ce0f2a63f8"
      },
      "execution_count": null,
      "outputs": [
        {
          "output_type": "stream",
          "name": "stdout",
          "text": [
            "['name']\n"
          ]
        }
      ]
    },
    {
      "cell_type": "code",
      "source": [
        "import re\n",
        "txt=\"hello,my name is python\"\n",
        "x=re.findall(\"^h\",txt)\n",
        "if x:\n",
        "  print(\"yes the string starts with hello\")\n",
        "else:\n",
        "  print(\"no match\")"
      ],
      "metadata": {
        "colab": {
          "base_uri": "https://localhost:8080/"
        },
        "id": "LnR-v80AoztQ",
        "outputId": "b4460585-3ab5-4f67-ea4b-78e3c5257858"
      },
      "execution_count": null,
      "outputs": [
        {
          "output_type": "stream",
          "name": "stdout",
          "text": [
            "yes the string starts with hello\n"
          ]
        }
      ]
    },
    {
      "cell_type": "code",
      "source": [
        "import re\n",
        "txt=\"hello,my name is python\"\n",
        "x=re.findall(\"n$\",txt)\n",
        "if x:\n",
        "  print(\"yes the string ends in n\")\n",
        "else:\n",
        "  print(\"no match\")"
      ],
      "metadata": {
        "colab": {
          "base_uri": "https://localhost:8080/"
        },
        "id": "GwFJMJRCpiJF",
        "outputId": "76acd49a-e442-48c4-8e2b-f52528421940"
      },
      "execution_count": null,
      "outputs": [
        {
          "output_type": "stream",
          "name": "stdout",
          "text": [
            "yes the string ends in n\n"
          ]
        }
      ]
    },
    {
      "cell_type": "code",
      "source": [
        "\n",
        "import re\n",
        "txt=\"hello my name is python\"\n",
        "x=re.findall(\"p.*n\",txt)\n",
        "print(x)"
      ],
      "metadata": {
        "colab": {
          "base_uri": "https://localhost:8080/"
        },
        "id": "ysjs5kiQqKGV",
        "outputId": "76a41c0d-b3f5-4e69-8f33-f1fcdf26cfce"
      },
      "execution_count": null,
      "outputs": [
        {
          "output_type": "stream",
          "name": "stdout",
          "text": [
            "['python']\n"
          ]
        }
      ]
    },
    {
      "cell_type": "code",
      "source": [
        "\n",
        "import re\n",
        "txt=\"hello my name is python\"\n",
        "x=re.findall(\"n.+n\",txt)\n",
        "print(x)"
      ],
      "metadata": {
        "colab": {
          "base_uri": "https://localhost:8080/"
        },
        "id": "fjQGS45krA2s",
        "outputId": "35fa039a-b245-4f9e-e06a-7e2a4a3487ea"
      },
      "execution_count": null,
      "outputs": [
        {
          "output_type": "stream",
          "name": "stdout",
          "text": [
            "['name is python']\n"
          ]
        }
      ]
    },
    {
      "cell_type": "code",
      "source": [
        "import re\n",
        "txt=\"hello my name is  python\"\n",
        "x=re.findall(\"p.?t\",txt)\n",
        "print(x)"
      ],
      "metadata": {
        "colab": {
          "base_uri": "https://localhost:8080/"
        },
        "id": "YLsQlq8Cre-q",
        "outputId": "a3917973-0740-4fd4-cec0-5746cf33cf79"
      },
      "execution_count": null,
      "outputs": [
        {
          "output_type": "stream",
          "name": "stdout",
          "text": [
            "['pyt']\n"
          ]
        }
      ]
    },
    {
      "cell_type": "code",
      "source": [
        "\n",
        "import re\n",
        "txt='hello my name is python'\n",
        "x=re.findall(\"p.{4}n\",txt)\n",
        "print(x)"
      ],
      "metadata": {
        "colab": {
          "base_uri": "https://localhost:8080/"
        },
        "id": "qVVngsfisyBc",
        "outputId": "ec7692b9-21a0-44ff-837c-5570ad3ce625"
      },
      "execution_count": null,
      "outputs": [
        {
          "output_type": "stream",
          "name": "stdout",
          "text": [
            "['python']\n"
          ]
        }
      ]
    },
    {
      "cell_type": "code",
      "source": [
        "from re import findall\n",
        "import re\n",
        "txt=\"the rain spain falls mainly in planes\"\n",
        "x=re.findall(\"rain|no\",txt)\n",
        "if x:\n",
        "  print(\"either one is correct\")\n",
        "else:\n",
        "  print(\"no match\")\n"
      ],
      "metadata": {
        "colab": {
          "base_uri": "https://localhost:8080/"
        },
        "id": "H46s-ZFTtedS",
        "outputId": "2abc5c9d-3519-418d-97db-f8e3f628d86b"
      },
      "execution_count": null,
      "outputs": [
        {
          "output_type": "stream",
          "name": "stdout",
          "text": [
            "either one is correct\n"
          ]
        }
      ]
    },
    {
      "cell_type": "code",
      "source": [
        "import re\n",
        "txt=\"the rain in spain\"\n",
        "x=re.findall(\"ai\",txt)\n",
        "print(x)"
      ],
      "metadata": {
        "colab": {
          "base_uri": "https://localhost:8080/"
        },
        "id": "O7gs3GCPv25K",
        "outputId": "a1524c3e-78f1-4bd5-8f53-a4b49aa16443"
      },
      "execution_count": null,
      "outputs": [
        {
          "output_type": "stream",
          "name": "stdout",
          "text": [
            "['ai', 'ai']\n"
          ]
        }
      ]
    },
    {
      "cell_type": "code",
      "source": [
        "import re\n",
        "txt=\"the rain in spain\"\n",
        "x=re.findall(\"kerala\",txt)\n",
        "print(x)"
      ],
      "metadata": {
        "colab": {
          "base_uri": "https://localhost:8080/"
        },
        "id": "GITG5iCDwFcV",
        "outputId": "dc1e83b0-c031-49bc-e75f-0bbbed9883df"
      },
      "execution_count": null,
      "outputs": [
        {
          "output_type": "stream",
          "name": "stdout",
          "text": [
            "[]\n"
          ]
        }
      ]
    },
    {
      "cell_type": "code",
      "source": [
        "import re\n",
        "txt=\"the rain in spain\"\n",
        "x=re.search(\"\\s\",txt)\n",
        "print(\"the first white space is placed in the position\",x.start())"
      ],
      "metadata": {
        "colab": {
          "base_uri": "https://localhost:8080/"
        },
        "id": "pbjcufJZwZVT",
        "outputId": "28477fe1-9ac9-4e79-8b7b-a405a2c84f8a"
      },
      "execution_count": null,
      "outputs": [
        {
          "output_type": "stream",
          "name": "stdout",
          "text": [
            "the first white space is placed in the position 3\n"
          ]
        },
        {
          "output_type": "stream",
          "name": "stderr",
          "text": [
            "<>:3: SyntaxWarning: invalid escape sequence '\\s'\n",
            "<>:3: SyntaxWarning: invalid escape sequence '\\s'\n",
            "/tmp/ipython-input-1799404575.py:3: SyntaxWarning: invalid escape sequence '\\s'\n",
            "  x=re.search(\"\\s\",txt)\n"
          ]
        }
      ]
    },
    {
      "cell_type": "code",
      "source": [
        "import re\n",
        "txt=\"the rain in spain\"\n",
        "x=re.split(\"\\s\",txt)\n",
        "print(x)"
      ],
      "metadata": {
        "colab": {
          "base_uri": "https://localhost:8080/"
        },
        "id": "ED5qpTJWxTYe",
        "outputId": "e8eb1355-e186-4a9c-8833-0fd887748d64"
      },
      "execution_count": null,
      "outputs": [
        {
          "output_type": "stream",
          "name": "stdout",
          "text": [
            "['the', 'rain', 'in', 'spain']\n"
          ]
        },
        {
          "output_type": "stream",
          "name": "stderr",
          "text": [
            "<>:3: SyntaxWarning: invalid escape sequence '\\s'\n",
            "<>:3: SyntaxWarning: invalid escape sequence '\\s'\n",
            "/tmp/ipython-input-3013776480.py:3: SyntaxWarning: invalid escape sequence '\\s'\n",
            "  x=re.split(\"\\s\",txt)\n"
          ]
        }
      ]
    },
    {
      "cell_type": "code",
      "source": [
        "import re\n",
        "txt='the rain in spain'\n",
        "x=re.split(\"\\s\",txt,2)\n",
        "print(x)"
      ],
      "metadata": {
        "colab": {
          "base_uri": "https://localhost:8080/"
        },
        "id": "ZOSC7AQJxs2w",
        "outputId": "cef2760f-f1e0-448a-b906-660fa764c5db"
      },
      "execution_count": null,
      "outputs": [
        {
          "output_type": "stream",
          "name": "stdout",
          "text": [
            "['the', 'rain', 'in spain']\n"
          ]
        },
        {
          "output_type": "stream",
          "name": "stderr",
          "text": [
            "<>:3: SyntaxWarning: invalid escape sequence '\\s'\n",
            "<>:3: SyntaxWarning: invalid escape sequence '\\s'\n",
            "/tmp/ipython-input-2889775955.py:3: SyntaxWarning: invalid escape sequence '\\s'\n",
            "  x=re.split(\"\\s\",txt,2)\n"
          ]
        }
      ]
    }
  ]
}